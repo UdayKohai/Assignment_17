{
 "cells": [
  {
   "cell_type": "code",
   "execution_count": 6,
   "metadata": {},
   "outputs": [
    {
     "name": "stdout",
     "output_type": "stream",
     "text": [
      "No of odd : 5\n",
      "No of Even : 4\n",
      "Avg of Odd : 26.6\n",
      "Avg of Even : 18.0\n"
     ]
    }
   ],
   "source": [
    "# Q1\n",
    "\n",
    "class odd_even:\n",
    "    def __init__(self) -> None:\n",
    "        self.lst =[12,16,13,11,18,17,21,26,71]\n",
    "        \n",
    "    def od_evn(self):\n",
    "        self.odd_lst=[]\n",
    "        self.evn_lst =[]\n",
    "        for item in self.lst:\n",
    "            if item%2==0:\n",
    "                self.evn_lst.append(item)\n",
    "            else:\n",
    "                self.odd_lst.append(item)\n",
    "        print(f'No of odd : {len(self.odd_lst)}')\n",
    "        print(f'No of Even : {len(self.evn_lst)}')\n",
    "        print(f\"Avg of Odd : {sum(self.odd_lst)/len(self.odd_lst)}\")\n",
    "        print(f\"Avg of Even : {sum(self.evn_lst)/len(self.evn_lst)}\")\n",
    "\n",
    "a= odd_even()\n",
    "a.od_evn()"
   ]
  },
  {
   "cell_type": "code",
   "execution_count": null,
   "metadata": {},
   "outputs": [],
   "source": [
    "class search():\n",
    "    def __init__(self) -> None:\n",
    "        self.lst =[12,16,13,11,18,17,21,26,71]\n",
    "        print(self.lst)\n",
    "    \n",
    "    \n",
    "    def linear_search(self):\n",
    "        print(\"Linear Search\".center(60,'#'))\n",
    "        self.n = int(input(\"Enter the elemet : \"))\n",
    "        for item in self.lst:\n",
    "            if item == self.n:\n",
    "                print(f\"Item Found\\nItem Index: {self.lst.index(item)}\\nItem : {item}\")\n",
    "                break\n",
    "        else:\n",
    "            print('Item not found ')\n",
    "                \n",
    "    def binary_search(self):\n",
    "        print(\"Binary Search\".center(60,'#'))\n",
    "        self.lst= sorted(self.lst)\n",
    "        print(self.lst)\n",
    "        self.n = int(input(\"Enter the elemet : \"))\n",
    "        self.high = len(self.lst)-1\n",
    "        self.low  = 0\n",
    "        while self.low<=self.high :\n",
    "            self.mid=(self.high + self.low)//2\n",
    "            \n",
    "            if self.lst[self.low]== self.n :\n",
    "                print(f\"Item Found\\nItem Index: {self.low}\\nItem : {self.lst[self.low]}\")\n",
    "                break\n",
    "            elif self.lst[self.high]== self.n :\n",
    "                print(f\"Item Found\\nItem Index: {self.high}\\nItem : {self.lst[self.high]}\")\n",
    "                break\n",
    "            elif  self.lst[self.mid]==self.n:\n",
    "                print(f\"Item Found\\nItem Index: {self.mid}\\nItem : {self.lst[self.mid]}\")\n",
    "                break\n",
    "        \n",
    "            elif self.lst[self.mid]>self.n:\n",
    "                self.high= self.mid -1\n",
    "            \n",
    "            elif self.lst[self.mid]<self.n:\n",
    "                self.low= self.mid + 1\n",
    "        else:\n",
    "            print(\"Item not found\")\n",
    "b= search()\n",
    "b.linear_search()\n",
    "b.binary_search()"
   ]
  },
  {
   "cell_type": "code",
   "execution_count": 26,
   "metadata": {},
   "outputs": [
    {
     "name": "stdout",
     "output_type": "stream",
     "text": [
      "List = [25, 41, 85, 96, 35, 64, 75, 9, 12, 21, 32, 23, 25, 56]\n",
      "Square list = [625, 1681, 7225, 9216, 1225, 4096, 5625, 81, 144, 441, 1024, 529, 625, 3136]\n",
      "Even list = [96, 64, 12, 32, 56]\n"
     ]
    }
   ],
   "source": [
    "# Q3\n",
    "lst =[25,41,85,96,35,64,75,9,12,21,32,23,25,56]\n",
    "print(f'List = {lst}')\n",
    "\n",
    "sqr_lst = [x**2 for x in lst]\n",
    "print(f'Square list = {sqr_lst}')\n",
    "\n",
    "even_list = [e for e in lst if e%2==0]\n",
    "print(f'Even list = {even_list}')"
   ]
  },
  {
   "cell_type": "code",
   "execution_count": null,
   "metadata": {},
   "outputs": [],
   "source": []
  }
 ],
 "metadata": {
  "kernelspec": {
   "display_name": "Python 3",
   "language": "python",
   "name": "python3"
  },
  "language_info": {
   "codemirror_mode": {
    "name": "ipython",
    "version": 3
   },
   "file_extension": ".py",
   "mimetype": "text/x-python",
   "name": "python",
   "nbconvert_exporter": "python",
   "pygments_lexer": "ipython3",
   "version": "3.12.3"
  }
 },
 "nbformat": 4,
 "nbformat_minor": 2
}
